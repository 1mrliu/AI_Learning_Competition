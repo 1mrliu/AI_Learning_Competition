{
 "cells": [
  {
   "cell_type": "code",
   "execution_count": 2,
   "metadata": {},
   "outputs": [],
   "source": [
    "import tensorflow as tf\n",
    "from tensorflow.python.framework import ops"
   ]
  },
  {
   "cell_type": "code",
   "execution_count": 4,
   "metadata": {},
   "outputs": [],
   "source": [
    "# 创建三个变量 使用默认的值\n",
    "weights = tf.Variable(tf.random_normal([2,3], stddev=0.1),name=\"weiughts\")\n",
    "biases = tf.Variable(tf.zeros([3]),name=\"biases\")\n",
    "custom_variable = tf.Variable(tf.zeros([3]), name=\"custom\")\n",
    "\n",
    "# 将所有的变量的张量 store 并且放到list当中\n",
    "all_variable_list = ops.get_collection(ops.GraphKeys.GLOBAL_VARIABLES)"
   ]
  },
  {
   "cell_type": "code",
   "execution_count": 5,
   "metadata": {
    "collapsed": true
   },
   "outputs": [],
   "source": [
    "# 选择性的使用部分的变量 去初始化\n",
    "variable_list_custom = [weights, custom_variable]\n",
    "\n",
    "# 初始化\n",
    "init_custom_op = tf.variables_initializer(var_list=variable_list_custom)"
   ]
  },
  {
   "cell_type": "code",
   "execution_count": 6,
   "metadata": {
    "collapsed": true
   },
   "outputs": [],
   "source": [
    "# 全局变量初始化\n",
    "# method 1\n",
    "init_all_op = tf.global_variables_initializer()\n",
    "\n",
    "# method 2\n",
    "init_all_op = tf.variables_initializer(var_list=all_variable_list)"
   ]
  },
  {
   "cell_type": "code",
   "execution_count": null,
   "metadata": {
    "collapsed": true
   },
   "outputs": [],
   "source": [
    "# 初始化其他的变量 使用已有的变量进行初始化\n",
    "WeightsNew = tf.Variable(weights.initial_value(), name=\"WeightsNew\")\n",
    "\n",
    "# 初始化上边的变量\n",
    "init_WeightsNew_op = tf.variables_initializer(var_list=[WeightsNew])"
   ]
  }
 ],
 "metadata": {
  "kernelspec": {
   "display_name": "Python 3",
   "language": "python",
   "name": "python3"
  },
  "language_info": {
   "codemirror_mode": {
    "name": "ipython",
    "version": 3
   },
   "file_extension": ".py",
   "mimetype": "text/x-python",
   "name": "python",
   "nbconvert_exporter": "python",
   "pygments_lexer": "ipython3",
   "version": "3.6.3"
  }
 },
 "nbformat": 4,
 "nbformat_minor": 2
}
