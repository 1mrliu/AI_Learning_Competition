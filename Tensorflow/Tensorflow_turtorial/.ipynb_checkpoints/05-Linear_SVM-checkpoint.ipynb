{
 "cells": [
  {
   "cell_type": "code",
   "execution_count": 1,
   "metadata": {
    "collapsed": true
   },
   "outputs": [],
   "source": [
    "import matplotlib.pyplot as plt\n",
    "import numpy as np \n",
    "import tensorflow as tf\n",
    "from sklearn import datasets\n",
    "import random\n",
    "import sys"
   ]
  },
  {
   "cell_type": "code",
   "execution_count": 3,
   "metadata": {
    "collapsed": true
   },
   "outputs": [],
   "source": [
    "# 必须的函数\n",
    "delta = 1.0\n",
    "Reg_param = 1.0\n",
    "C_param = 0.1\n",
    "batch_size = 32\n",
    "num_steps = 1000\n",
    "is_evaluation = True\n",
    "initial_learning_rate = 0.1\n",
    "\n",
    "def loss_fn(W, b, x_data,y_target):\n",
    "    logits = tf.subtract(tf.matmul(x_data,W),b)\n",
    "    norm_term = tf.divide(tf.reduce_sum(tf.multiply(tf.transpose(W),W)),2)\n",
    "    classification_loss = tf.reduce_mean(tf.maximum(0., tf.subtract(delta, tf.multiply(logits,y_target))))\n",
    "    total_loss = tf.add(tf.multiply(C_param,classification_loss),tf.multiply(Reg_param,norm_term))   \n",
    "    return total_loss\n",
    "\n",
    "def inference_fn(W,b,x_data,y_target):\n",
    "    prediction = tf.sign(tf.subtract(tf.matmul(x_data,W),b))\n",
    "    accuracy = tf.reduce_mean(tf.cast(tf.equal(prediction,y_target), tf.float32))\n",
    "    return accuracy\n",
    "\n",
    "def next_batch_fn(x_train,y_train,num_samples=batch_size):\n",
    "    index = np.random.choice(len(x_train),size=num_samples)\n",
    "    X_batch = x_train[index]\n",
    "    y_batch = np.transpose([y_train[index]])\n",
    "    return X_batch, y_batch"
   ]
  },
  {
   "cell_type": "code",
   "execution_count": 35,
   "metadata": {},
   "outputs": [
    {
     "name": "stdout",
     "output_type": "stream",
     "text": [
      "2\n",
      "[ 1  1  1  1  1  1  1  1  1  1  1  1  1  1  1  1  1  1  1  1  1  1  1  1  1\n",
      "  1  1  1  1  1  1  1  1  1  1  1  1  1  1  1  1  1  1  1  1  1  1  1  1  1\n",
      " -1 -1 -1 -1 -1 -1 -1 -1 -1 -1 -1 -1 -1 -1 -1 -1 -1 -1 -1 -1 -1 -1 -1 -1 -1\n",
      " -1 -1 -1 -1 -1 -1 -1 -1 -1 -1 -1 -1 -1 -1 -1 -1 -1 -1 -1 -1 -1 -1 -1 -1 -1\n",
      " -1 -1 -1 -1 -1 -1 -1 -1 -1 -1 -1 -1 -1 -1 -1 -1 -1 -1 -1 -1 -1 -1 -1 -1 -1\n",
      " -1 -1 -1 -1 -1 -1 -1 -1 -1 -1 -1 -1 -1 -1 -1 -1 -1 -1 -1 -1 -1 -1 -1 -1 -1]\n"
     ]
    }
   ],
   "source": [
    "# 准备数据\n",
    "\n",
    "# 加载数据\n",
    "iris = datasets.load_iris()\n",
    "\n",
    "#只有前两列的数据被使用\n",
    "X = iris.data[:,:2]\n",
    "print(X.shape[1])\n",
    "\n",
    "# 将label的值转化为 -1 和 1\n",
    "y = np.array([1 if label==0 else -1 for label in iris.target])\n",
    "print(y)\n",
    "\n",
    "# shape[0] 代表的是行的个数   shape[1] 代表的是列的个数\n",
    "my_randoms = np.random.choice(X.shape[0], X.shape[0], replace=False)\n",
    "train_indices = my_randoms[0:int(0.5*X.shape[0])]\n",
    "test_indices = my_randoms[int(0.5 * X.shape[0]):]\n",
    "\n",
    "# 分为训练集和测试集\n",
    "x_train = X[train_indices]\n",
    "y_train = y[train_indices]\n",
    "x_test = X[train_indices]\n",
    "y_test = y[test_indices]"
   ]
  },
  {
   "cell_type": "code",
   "execution_count": 7,
   "metadata": {
    "collapsed": true
   },
   "outputs": [],
   "source": [
    "# 定义 placeholder\n",
    "x_data = tf.placeholder(shape=[None,X.shape[1]], dtype=tf.float32) # [None,2]\n",
    "y_target = tf.placeholder(shape=[None,1],dtype=tf.float32) # [None,1]\n",
    "W = tf.Variable(tf.random_normal(shape=[X.shape[1],1])) # [2,1]\n",
    "bias = tf.Variable(tf.random_normal(shape=[1,1]))\n",
    "\n",
    "# 计算损失值和精确度\n",
    "total_loss = loss_fn(W, bias, x_data,y_target)\n",
    "accuracy = inference_fn(W, bias, x_data, y_target)\n",
    "\n",
    "# 定义优化函数\n",
    "train_op = tf.train.GradientDescentOptimizer(initial_learning_rate).minimize(total_loss)"
   ]
  },
  {
   "cell_type": "code",
   "execution_count": 10,
   "metadata": {},
   "outputs": [],
   "source": [
    "# Session\n",
    "sess = tf.Session()\n",
    "\n",
    "# 初始化所有变量值\n",
    "init = tf.global_variables_initializer()\n",
    "sess.run(init)"
   ]
  },
  {
   "cell_type": "code",
   "execution_count": 15,
   "metadata": {},
   "outputs": [
    {
     "name": "stdout",
     "output_type": "stream",
     "text": [
      "Step # 100, training accuarcy= % 100.00, testing accuracy=% 60.00\n",
      "Step # 200, training accuarcy= % 100.00, testing accuracy=% 60.00\n",
      "Step # 300, training accuarcy= % 100.00, testing accuracy=% 60.00\n",
      "Step # 400, training accuarcy= % 100.00, testing accuracy=% 60.00\n",
      "Step # 500, training accuarcy= % 100.00, testing accuracy=% 60.00\n",
      "Step # 600, training accuarcy= % 100.00, testing accuracy=% 60.00\n",
      "Step # 700, training accuarcy= % 100.00, testing accuracy=% 60.00\n",
      "Step # 800, training accuarcy= % 100.00, testing accuracy=% 60.00\n",
      "Step # 900, training accuarcy= % 100.00, testing accuracy=% 60.00\n",
      "Step # 1000, training accuarcy= % 100.00, testing accuracy=% 60.00\n"
     ]
    }
   ],
   "source": [
    "# Train the Linear SVM\n",
    "for step_index in range(num_steps):\n",
    "    \n",
    "    X_batch, y_batch = next_batch_fn(x_train,y_train, num_samples=batch_size)\n",
    "    \n",
    "    sess.run(train_op, feed_dict={x_data:X_batch,y_target:y_batch})\n",
    "    \n",
    "    loss_step = sess.run(total_loss,feed_dict={x_data:X_batch, y_target:y_batch})\n",
    "    train_acc_step = sess.run(accuracy, feed_dict={x_data:x_train, y_target:np.transpose([y_train])})\n",
    "    test_acc_step = sess.run(accuracy, feed_dict={x_data:x_test,y_target:np.transpose([y_test])})\n",
    "    if(step_index + 1 )% 100 == 0:\n",
    "        print('Step # %d, training accuarcy= %% %.2f, testing accuracy=%% %.2f' %(step_index + 1, \n",
    "                                                                                  float(100 * train_acc_step),\n",
    "                                                                                 float(100 * test_acc_step)))\n",
    "      "
   ]
  },
  {
   "cell_type": "code",
   "execution_count": 27,
   "metadata": {},
   "outputs": [
    {
     "data": {
      "image/png": "[encoded data removed]",
      "text/plain": [
       "<matplotlib.figure.Figure at 0x1f6dd882da0>"
      ]
     },
     "metadata": {},
     "output_type": "display_data"
    }
   ],
   "source": [
    "if is_evaluation:\n",
    "    [[w1],[w2]] = sess.run(W)\n",
    "    [[b]] = sess.run(bias)\n",
    "    x_line = [data[1] for data in X]\n",
    "    \n",
    "    # 找到分割线\n",
    "    line = []\n",
    "    line = [-w2/w1*i+b/w1 for i in x_line]\n",
    "    \n",
    "    for index,data in enumerate(X):\n",
    "        if y[index] == 1:\n",
    "            positive_X = data[1]\n",
    "            positive_y = data[0]\n",
    "        elif y[index] == -1:\n",
    "            negative_X = data[1]\n",
    "            negative_y = data[0]\n",
    "        else:\n",
    "            sys.exit(\"Invalid label!\")\n",
    "        \n",
    "    plt.plot(positive_X,positive_y, '+', label='Positive')\n",
    "    plt.plot(negative_X,negative_y, 'o', label='Negative')\n",
    "    plt.plot(x_line,line,'r-',label='Separator', linewidth=3)\n",
    "    plt.legend(loc='best')\n",
    "    plt.title('LinearSVM')\n",
    "    plt.show()\n",
    "            "
   ]
  },
  {
   "cell_type": "code",
   "execution_count": null,
   "metadata": {
    "collapsed": true
   },
   "outputs": [],
   "source": []
  }
 ],
 "metadata": {
  "kernelspec": {
   "display_name": "Python 3",
   "language": "python",
   "name": "python3"
  },
  "language_info": {
   "codemirror_mode": {
    "name": "ipython",
    "version": 3
   },
   "file_extension": ".py",
   "mimetype": "text/x-python",
   "name": "python",
   "nbconvert_exporter": "python",
   "pygments_lexer": "ipython3",
   "version": "3.6.3"
  }
 },
 "nbformat": 4,
 "nbformat_minor": 2
}
